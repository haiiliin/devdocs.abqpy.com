{
  "cells": [
    {
      "cell_type": "code",
      "execution_count": null,
      "metadata": {
        "collapsed": false
      },
      "outputs": [],
      "source": [
        "%matplotlib inline"
      ]
    },
    {
      "cell_type": "markdown",
      "metadata": {},
      "source": [
        "\n# Compression Output Script\n\nA script to get the output of the compression model.\n"
      ]
    },
    {
      "cell_type": "code",
      "execution_count": null,
      "metadata": {
        "collapsed": false
      },
      "outputs": [],
      "source": [
        "from abaqus import *\nfrom abaqusConstants import *\nfrom driverUtils import *\nimport visualization\nimport numpy as np\n\nexecuteOnCaeStartup()\n\n# Open output database\nodb = session.openOdb('Job-1.odb')\n\n# Show the output database in viewport\nsession.viewports['Viewport: 1'].setValues(displayedObject=odb)\n\n# Extract output data\ndataList = session.xyDataListFromField(odb=odb, outputPosition=NODAL, \n                                       variable=(('U', NODAL, ((COMPONENT, 'U3'),)),),\n                                       nodeSets=('INSTANCE.SET-TOP', ))\n\ndata = np.array(dataList[0])\nnp.savetxt('data.csv', data, header='time,U3', delimiter=',', comments='')"
      ]
    }
  ],
  "metadata": {
    "kernelspec": {
      "display_name": "Python 3",
      "language": "python",
      "name": "python3"
    },
    "language_info": {
      "codemirror_mode": {
        "name": "ipython",
        "version": 3
      },
      "file_extension": ".py",
      "mimetype": "text/x-python",
      "name": "python",
      "nbconvert_exporter": "python",
      "pygments_lexer": "ipython3",
      "version": "3.10.8"
    }
  },
  "nbformat": 4,
  "nbformat_minor": 0
}