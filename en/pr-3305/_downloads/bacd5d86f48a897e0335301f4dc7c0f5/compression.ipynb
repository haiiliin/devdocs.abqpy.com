{
  "cells": [
    {
      "cell_type": "code",
      "execution_count": null,
      "metadata": {
        "collapsed": false
      },
      "outputs": [],
      "source": [
        "%matplotlib inline"
      ]
    },
    {
      "cell_type": "markdown",
      "metadata": {},
      "source": [
        "\n# Compression Model\n\nA simple example to establish a compression model.\n"
      ]
    },
    {
      "cell_type": "code",
      "execution_count": null,
      "metadata": {
        "collapsed": false
      },
      "outputs": [],
      "source": [
        "from abaqus import *\nfrom abaqusConstants import *\nfrom caeModules import *\nfrom driverUtils import *\n\nexecuteOnCaeStartup()\n\n# Model\nmodel = mdb.models['Model-1']\n\n# Part\nsketch = model.ConstrainedSketch(name='sketch', sheetSize=1.0)\nsketch.rectangle((0, 0), (1, 1))\npart = model.Part(name='part', dimensionality=THREE_D, type=DEFORMABLE_BODY)\npart.BaseSolidExtrude(sketch=sketch, depth=1)\n\n# Create sets\npart.Set(name='set-all', cells=part.cells.findAt(coordinates=((0.5, 0.5, 0.5),)))\npart.Set(name='set-bottom', faces=part.faces.findAt(coordinates=((0.5, 0.5, 0.0),)))\npart.Set(name='set-top', faces=part.faces.findAt(coordinates=((0.5, 0.5, 1.0),)))\npart.Surface(name='surface-top',\n             side1Faces=part.faces.findAt(coordinates=((0.5, 0.5, 1.0),)))\n\n# Assembly\nmodel.rootAssembly.DatumCsysByDefault(CARTESIAN)\nmodel.rootAssembly.Instance(name='instance', part=part, dependent=ON)\n\n# Material\nmaterial = model.Material(name='material')\nmaterial.Elastic(table=((1000, 0.2),))\nmaterial.Density(table=((2500,),))\n\n# Section\nmodel.HomogeneousSolidSection(name='section', material='material', thickness=None)\npart.SectionAssignment(region=part.sets['set-all'], sectionName='section')\n\n# Step\nstep = model.StaticStep(name='Step-1', previous='Initial', description='',\n                        timePeriod=1.0, timeIncrementationMethod=AUTOMATIC,\n                        maxNumInc=100, initialInc=0.01, minInc=0.001, maxInc=0.1)\n\n# Output request\nfield = model.FieldOutputRequest('F-Output-1', createStepName='Step-1',\n                                 variables=('S', 'E', 'U'))\n\n# Boundary condition\nbottom_instance = model.rootAssembly.instances['instance'].sets['set-bottom']\nbc = model.DisplacementBC(name='BC-1', createStepName='Initial',\n                          region=bottom_instance, u3=SET)\n\n# Load\ntop_instance = model.rootAssembly.instances['instance'].surfaces['surface-top']\npressure = model.Pressure('pressure', createStepName='Step-1', region=top_instance,\n                          magnitude=100)\n\n# Mesh\nelem1 = mesh.ElemType(elemCode=C3D8R)\nelem2 = mesh.ElemType(elemCode=C3D6)\nelem3 = mesh.ElemType(elemCode=C3D4)\npart.setElementType(regions=(part.cells,), elemTypes=(elem1, elem2, elem3))\npart.seedPart(size=0.1)\npart.generateMesh()\n\n# Job\njob = mdb.Job(name='Job-1', model='Model-1')\njob.writeInput()\n\n# Submit the job\njob.submit()\njob.waitForCompletion()\n\n# Save abaqus model\nmdb.saveAs('compression.cae')"
      ]
    }
  ],
  "metadata": {
    "kernelspec": {
      "display_name": "Python 3",
      "language": "python",
      "name": "python3"
    },
    "language_info": {
      "codemirror_mode": {
        "name": "ipython",
        "version": 3
      },
      "file_extension": ".py",
      "mimetype": "text/x-python",
      "name": "python",
      "nbconvert_exporter": "python",
      "pygments_lexer": "ipython3",
      "version": "3.10.8"
    }
  },
  "nbformat": 4,
  "nbformat_minor": 0
}