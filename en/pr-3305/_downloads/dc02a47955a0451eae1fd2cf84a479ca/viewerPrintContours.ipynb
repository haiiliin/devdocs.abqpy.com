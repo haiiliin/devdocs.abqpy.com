{
  "cells": [
    {
      "cell_type": "code",
      "execution_count": null,
      "metadata": {
        "collapsed": false
      },
      "outputs": [],
      "source": [
        "%matplotlib inline"
      ]
    },
    {
      "cell_type": "markdown",
      "metadata": {},
      "source": [
        "\n# Print Contour Plots\n\n`viewerPrintContours.py` from [Printing a contour plot at the end of each step](https://help.3ds.com/2021/English/DSSIMULIA_Established/SIMACAECMDRefMap/simacmd-c-intexaprintcontour.htm?contextscope=all&id=01196185741b4c25ae212a9cc00dc138).\n\nPrint a set of contour plots to .png files.\n\nRun the following command before running this script:\n\n```sh\nabaqus fetch job=viewer_tutorial\n```\nThe following example script demonstrates how to produce and print a contour plot at the last frame of every step within an output database file. The example sets the appropriate contour limits so that all plots can be viewed within a fixed range.\n\nUse the following command to retrieve the example script:\n\n```sh\nabaqus fetch job=viewerPrintContours\n```\nThe script does the following:\n\n- Defines the contour limits function.\n- Determines the final frame of every step within an output database file.\n- Produces a contour plot at the final frame of every step.\n- Prints the contour plot to a file.\n"
      ]
    },
    {
      "cell_type": "code",
      "execution_count": null,
      "metadata": {
        "collapsed": false
      },
      "outputs": [],
      "source": [
        "from abaqus import *\nfrom abaqusConstants import *\nimport visualization\n\n# Create a viewport for this example.\n\nmyViewport=session.Viewport(name=\n    'Print contour plot after each step', origin=(10, 10),\n    width=150, height=100)\n\n# Open the output database and associate it with the viewport.\n# Then set the plot state to CONTOURS_ON_DEF\n\ntry:\n    myOdb = visualization.openOdb(path='viewer_tutorial.odb')\n\nexcept Exception as e:\n    print('Error:', e)\n\nmyViewport.setValues(displayedObject=myOdb)\n\n\nmyViewport.odbDisplay.display.setValues(plotState=(CONTOURS_ON_DEF,))\n\n# Determine the number of steps in the output database.\n\nmySteps = myOdb.steps\nnumSteps = len(mySteps)\n\n# Set the maximum and minimum limits of the contour legend.\n\nmyViewport.odbDisplay.contourOptions.setValues(numIntervals=10,\n    maxAutoCompute=OFF, maxValue=0.1,\n    minAutoCompute=OFF, minValue=0.0)\n\n# Establish print preferences.\n\nsession.printOptions.setValues(vpBackground=OFF)\nsession.psOptions.setValues(orientation=LANDSCAPE)\nmyViewport.viewportAnnotationOptions.setValues(\n    triad=OFF,title=OFF,state=OFF)\nmyViewport.odbDisplay.basicOptions.setValues(\n    coordSystemDisplay=OFF, )\n\n# For each step, obtain the following:\n#     1) The step key.\n#     2) The number of frames in the step.\n#     3) The increment number of the last frame in the step.\n#\n\nfor i in range(numSteps):\n    stepKey = mySteps.keys()[i]\n    step = mySteps[stepKey]\n    numFrames = len(step.frames)\n\n#   Go to the last frame.\n#   Display a contour plot.\n#   Display the step description and the increment number.\n\n    myViewport.odbDisplay.setFrame(step=i, frame=numFrames-1)\n    myViewport.odbDisplay.display.setValues(plotState=(CONTOURS_ON_DEF,))\n    \n# Remove white space from the step key and use the result\n# to name the file.\n\n    fileName=stepKey.replace(' ','')\n\n# Print the viewport to a file.\n\n    session.printToFile(fileName, PNG, (myViewport,))"
      ]
    }
  ],
  "metadata": {
    "kernelspec": {
      "display_name": "Python 3",
      "language": "python",
      "name": "python3"
    },
    "language_info": {
      "codemirror_mode": {
        "name": "ipython",
        "version": 3
      },
      "file_extension": ".py",
      "mimetype": "text/x-python",
      "name": "python",
      "nbconvert_exporter": "python",
      "pygments_lexer": "ipython3",
      "version": "3.10.8"
    }
  },
  "nbformat": 4,
  "nbformat_minor": 0
}