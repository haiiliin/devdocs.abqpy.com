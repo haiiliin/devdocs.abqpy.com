{
  "cells": [
    {
      "cell_type": "code",
      "execution_count": null,
      "metadata": {
        "collapsed": false
      },
      "outputs": [],
      "source": [
        "%matplotlib inline"
      ]
    },
    {
      "cell_type": "markdown",
      "metadata": {},
      "source": [
        "\n# Cantilever Beam\n\n`beamExample.py` from [Reproducing the cantilever beam tutorial](https://help.3ds.com/2021/English/DSSIMULIA_Established/SIMACAECMDRefMap/simacmd-m-IntExaBeam-sb.htm?contextscope=all&id=912c66dae2554e53b439b484eddbfd6e).\n\nReproduce the cantilever beam example from the\nAppendix of the Getting Started with\nAbaqus: Interactive Edition Manual.\n\nThe example leads you through the Abaqus/CAE modeling process by visiting each of the modules and shows you the basic steps to create and analyze a simple model. In [Creating and Analyzing a Simple Model in Abaqus/CAE](https://help.3ds.com/2021/English/DSSIMULIA_Established/SIMACAEGSARefMap/simagsa-m-Caebeam-sb.htm?contextscope=all#simagsa-m-Caebeam-sb), you create a model of a steel cantilever beam and load its top surface. You then analyze the beam and plot the resulting stresses and displacements. :numref:`gst-beam-example` illustrates the model that you create and analyze.\n\n.. figure:: /images/gst-beam.png\n    :width: 100%\n    :align: center\n\n    A loaded cantilever beam.\n"
      ]
    },
    {
      "cell_type": "code",
      "execution_count": null,
      "metadata": {
        "collapsed": false
      },
      "outputs": [],
      "source": [
        "from abaqus import *\nfrom abaqusConstants import *\nbackwardCompatibility.setValues(includeDeprecated=True,\n                                reportDeprecated=False)\n\n# Create a model.\n\nmyModel = mdb.Model(name='Beam')\n\n# Create a new viewport in which to display the model\n# and the results of the analysis.\n\nmyViewport = session.Viewport(name='Cantilever Beam Example',\n    origin=(20, 20), width=150, height=120)\n\n#-----------------------------------------------------\n\nimport part\n\n# Create a sketch for the base feature.\n\nmySketch = myModel.ConstrainedSketch(name='beamProfile',\n    sheetSize=250.)\n\n# Create the rectangle.\n\nmySketch.rectangle(point1=(-100,10), point2=(100,-10))\n\n# Create a three-dimensional, deformable part.\n\nmyBeam = myModel.Part(name='Beam', dimensionality=THREE_D,\n    type=DEFORMABLE_BODY)\n\n# Create the part's base feature by extruding the sketch\n# through a distance of 25.0.\n\nmyBeam.BaseSolidExtrude(sketch=mySketch, depth=25.0)\n\n#-----------------------------------------------------\n\nimport material\n\n# Create a material.\n\nmySteel = myModel.Material(name='Steel')\n\n# Create the elastic properties: youngsModulus is 209.E3\n# and poissonsRatio is 0.3\n\nelasticProperties = (209.E3, 0.3)\nmySteel.Elastic(table=(elasticProperties, ) )\n\n#-------------------------------------------------------\n\nimport section\n\n# Create the solid section.\n\nmySection = myModel.HomogeneousSolidSection(name='beamSection',\n    material='Steel', thickness=1.0)\n\n# Assign the section to the region. The region refers\n# to the single cell in this model.\n\nregion = (myBeam.cells,)\nmyBeam.SectionAssignment(region=region,\n    sectionName='beamSection')\n\n#-------------------------------------------------------\n\nimport assembly\n\n# Create a part instance.\n\nmyAssembly = myModel.rootAssembly\nmyInstance = myAssembly.Instance(name='beamInstance',\n    part=myBeam, dependent=OFF)\n\n#-------------------------------------------------------\n\nimport step\n\n# Create a step. The time period of the static step is 1.0,\n# and the initial incrementation is 0.1; the step is created\n# after the initial step.\n\nmyModel.StaticStep(name='beamLoad', previous='Initial',\n    timePeriod=1.0, initialInc=0.1,\n    description='Load the top of the beam.')\n\n#-------------------------------------------------------\n\nimport load\n\n# Find the end face using coordinates.\n\nendFaceCenter = (-100,0,12.5)\nendFace = myInstance.faces.findAt((endFaceCenter,) )\n\n# Create a boundary condition that encastres one end\n# of the beam.\n\nendRegion = (endFace,)\nmyModel.EncastreBC(name='Fixed',createStepName='beamLoad',\n    region=endRegion)\n\n# Find the top face using coordinates.\n\ntopFaceCenter = (0,10,12.5)\ntopFace = myInstance.faces.findAt((topFaceCenter,) )\n\n# Create a pressure load on the top face of the beam.\n\ntopSurface = ((topFace, SIDE1), )\nmyModel.Pressure(name='Pressure', createStepName='beamLoad',\n    region=topSurface, magnitude=0.5)\n\n#-------------------------------------------------------\n\nimport mesh\n\n# Assign an element type to the part instance.\n\nregion = (myInstance.cells,)\nelemType = mesh.ElemType(elemCode=C3D8I, elemLibrary=STANDARD)\nmyAssembly.setElementType(regions=region, elemTypes=(elemType,))\n\n# Seed the part instance.\n\nmyAssembly.seedPartInstance(regions=(myInstance,), size=10.0)\n\n# Mesh the part instance.\n\nmyAssembly.generateMesh(regions=(myInstance,))\n\n# Display the meshed beam.\n\nmyViewport.assemblyDisplay.setValues(mesh=ON)\nmyViewport.assemblyDisplay.meshOptions.setValues(meshTechnique=ON)\nmyViewport.setValues(displayedObject=myAssembly)\n\n#-------------------------------------------------------\n\nimport job\n\n# Create an analysis job for the model and submit it.\n\njobName = 'beam_tutorial'\nmyJob = mdb.Job(name=jobName, model='Beam',\n    description='Cantilever beam tutorial')\n\n# Wait for the job to complete.\n\nmyJob.submit()\nmyJob.waitForCompletion()\n\n#-------------------------------------------------------\n\nimport visualization\n\n# Open the output database and display a\n# default contour plot.\n\nmyOdb = visualization.openOdb(path=jobName + '.odb')\nmyViewport.setValues(displayedObject=myOdb)\nmyViewport.odbDisplay.display.setValues(plotState=CONTOURS_ON_DEF)\n\nmyViewport.odbDisplay.commonOptions.setValues(renderStyle=FILLED)"
      ]
    }
  ],
  "metadata": {
    "kernelspec": {
      "display_name": "Python 3",
      "language": "python",
      "name": "python3"
    },
    "language_info": {
      "codemirror_mode": {
        "name": "ipython",
        "version": 3
      },
      "file_extension": ".py",
      "mimetype": "text/x-python",
      "name": "python",
      "nbconvert_exporter": "python",
      "pygments_lexer": "ipython3",
      "version": "3.10.8"
    }
  },
  "nbformat": 4,
  "nbformat_minor": 0
}