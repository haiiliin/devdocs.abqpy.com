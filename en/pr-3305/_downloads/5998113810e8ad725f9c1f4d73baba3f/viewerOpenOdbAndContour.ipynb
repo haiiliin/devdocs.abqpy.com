{
  "cells": [
    {
      "cell_type": "code",
      "execution_count": null,
      "metadata": {
        "collapsed": false
      },
      "outputs": [],
      "source": [
        "%matplotlib inline"
      ]
    },
    {
      "cell_type": "markdown",
      "metadata": {},
      "source": [
        "\n# Open Odb and Display a Contour Plot\n\n`viewerOpenOdbAndContour.py` from [Opening an output database and displaying a contour plot](https://help.3ds.com/2021/English/DSSIMULIA_Established/SIMACAECMDRefMap/simacmd-c-intexaopenodb.htm?contextscope=all&id=0d282d5c2d004c5d9f115b9e7853cacf).\n\nPrint a contour plot to a local PNG-format file.\n\nRun the following command before running this script:\n\n```sh\nabaqus fetch job=viewer_tutorial\n```\nThe following example of a script containing Abaqus Scripting Interface commands uses the output database used by [Viewing the Output from Your Analysis](https://help.3ds.com/2021/English/DSSIMULIA_Established/SIMACAEGSARefMap/simagsa-m-Caevismod-sb.htm?contextscope=all#simagsa-m-Caevismod-sb).\n\nUse the following command to retrieve the example script:\n\n```sh\nabaqus fetch job=viewerOpenOdbAndContour\n```\nThe script does the following:\n\n- Creates a viewport, and makes it the current viewport.\n- Opens an output database.\n- Displays a contour plot.\n- Displays the model in the first frame of the third step.\n- Sets the number of contour intervals and the contour limits.\n- Prints a color image of the viewport to a .png file.\n"
      ]
    },
    {
      "cell_type": "code",
      "execution_count": null,
      "metadata": {
        "collapsed": false
      },
      "outputs": [],
      "source": [
        "from abaqus import *\nfrom abaqusConstants import *\nimport visualization\n\n# Create a new Viewport for this example.\n\nmyViewport=session.Viewport(name='Print a contour plot', \n    origin=(10, 10), width=200, height=100)\n\n# Open the output database and associate it\n# with the new viewport.\n\nodbPath = \"viewer_tutorial.odb\"\nmyOdb = visualization.openOdb(path=odbPath)\n    \nmyViewport.setValues(displayedObject=myOdb)\n\n\n# Display a contour plot of the output database.\n\nmyViewport.odbDisplay.display.setValues(plotState=(CONTOURS_ON_DEF,))\n\n# Change to the first frame of the third step.\n# Remember that indices in Python begin with zero: \n#   The index of the first frame is 0.\n#   The index of the third step is 2.\n\nmyViewport.odbDisplay.setFrame(step=2, frame=0)\n\n# Change the number of contour intervals to 10\n# starting at 0.0 and ending at 0.10.\n\nmyViewport.odbDisplay.contourOptions.setValues(numIntervals=10, \n    maxAutoCompute=OFF, maxValue=0.10, \n    minAutoCompute=OFF, minValue=0.0,)\n\n# Generate color output. \n# Do not print the viewport decorations or the black background.\n\nsession.printOptions.setValues(rendition=COLOR,\n    vpDecorations=OFF, vpBackground=OFF)\n\n# Print the viewport to a local PNG-format file.\n\nsession.printToFile(fileName='contourPlot', format=PNG,\n    canvasObjects=(myViewport,))"
      ]
    }
  ],
  "metadata": {
    "kernelspec": {
      "display_name": "Python 3",
      "language": "python",
      "name": "python3"
    },
    "language_info": {
      "codemirror_mode": {
        "name": "ipython",
        "version": 3
      },
      "file_extension": ".py",
      "mimetype": "text/x-python",
      "name": "python",
      "nbconvert_exporter": "python",
      "pygments_lexer": "ipython3",
      "version": "3.10.8"
    }
  },
  "nbformat": 4,
  "nbformat_minor": 0
}